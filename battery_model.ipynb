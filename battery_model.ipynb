{
 "cells": [
  {
   "cell_type": "code",
   "execution_count": 1,
   "metadata": {},
   "outputs": [
    {
     "name": "stderr",
     "output_type": "stream",
     "text": [
      "C:\\Users\\zhout\\AppData\\Local\\Temp\\ipykernel_18564\\3455868279.py:5: DeprecationWarning: \n",
      "Pyarrow will become a required dependency of pandas in the next major release of pandas (pandas 3.0),\n",
      "(to allow more performant data types, such as the Arrow string type, and better interoperability with other libraries)\n",
      "but was not found to be installed on your system.\n",
      "If this would cause problems for you,\n",
      "please provide us feedback at https://github.com/pandas-dev/pandas/issues/54466\n",
      "        \n",
      "  import pandas as pd\n"
     ]
    }
   ],
   "source": [
    "#Load packages\n",
    "import pulp\n",
    "import os\n",
    "import numpy as np\n",
    "import pandas as pd\n",
    "import matplotlib as mpl\n",
    "import matplotlib.pyplot as plt\n",
    "import time"
   ]
  },
  {
   "cell_type": "code",
   "execution_count": 2,
   "metadata": {},
   "outputs": [
    {
     "data": {
      "text/html": [
       "<div>\n",
       "<style scoped>\n",
       "    .dataframe tbody tr th:only-of-type {\n",
       "        vertical-align: middle;\n",
       "    }\n",
       "\n",
       "    .dataframe tbody tr th {\n",
       "        vertical-align: top;\n",
       "    }\n",
       "\n",
       "    .dataframe thead th {\n",
       "        text-align: right;\n",
       "    }\n",
       "</style>\n",
       "<table border=\"1\" class=\"dataframe\">\n",
       "  <thead>\n",
       "    <tr style=\"text-align: right;\">\n",
       "      <th></th>\n",
       "      <th>Values</th>\n",
       "      <th>Units</th>\n",
       "    </tr>\n",
       "  </thead>\n",
       "  <tbody>\n",
       "    <tr>\n",
       "      <th>Max charging rate</th>\n",
       "      <td>2</td>\n",
       "      <td>MW</td>\n",
       "    </tr>\n",
       "    <tr>\n",
       "      <th>Max discharging rate</th>\n",
       "      <td>2</td>\n",
       "      <td>MW</td>\n",
       "    </tr>\n",
       "    <tr>\n",
       "      <th>Max storage volume</th>\n",
       "      <td>4</td>\n",
       "      <td>MWh</td>\n",
       "    </tr>\n",
       "    <tr>\n",
       "      <th>Battery charging efficiency</th>\n",
       "      <td>0.05</td>\n",
       "      <td>NaN</td>\n",
       "    </tr>\n",
       "    <tr>\n",
       "      <th>Battery discharging efficiency</th>\n",
       "      <td>0.05</td>\n",
       "      <td>NaN</td>\n",
       "    </tr>\n",
       "    <tr>\n",
       "      <th>Lifetime (1)</th>\n",
       "      <td>10</td>\n",
       "      <td>years</td>\n",
       "    </tr>\n",
       "    <tr>\n",
       "      <th>Lifetime (2)</th>\n",
       "      <td>5000</td>\n",
       "      <td>cycles</td>\n",
       "    </tr>\n",
       "    <tr>\n",
       "      <th>Storage volume degradation rate</th>\n",
       "      <td>0.001</td>\n",
       "      <td>%/cycle</td>\n",
       "    </tr>\n",
       "    <tr>\n",
       "      <th>Capex</th>\n",
       "      <td>500000</td>\n",
       "      <td>£</td>\n",
       "    </tr>\n",
       "    <tr>\n",
       "      <th>Fixed Operational Costs</th>\n",
       "      <td>£5,000</td>\n",
       "      <td>£/year</td>\n",
       "    </tr>\n",
       "  </tbody>\n",
       "</table>\n",
       "</div>"
      ],
      "text/plain": [
       "                                 Values    Units\n",
       "Max charging rate                     2       MW\n",
       "Max discharging rate                  2       MW\n",
       "Max storage volume                    4      MWh\n",
       "Battery charging efficiency        0.05      NaN\n",
       "Battery discharging efficiency     0.05      NaN\n",
       "Lifetime (1)                         10    years\n",
       "Lifetime (2)                       5000   cycles\n",
       "Storage volume degradation rate   0.001  %/cycle\n",
       "Capex                            500000        £\n",
       "Fixed Operational Costs          £5,000   £/year"
      ]
     },
     "execution_count": 2,
     "metadata": {},
     "output_type": "execute_result"
    }
   ],
   "source": [
    "battery_specs = pd.read_csv(os.path.join('data', 'battery_specs.csv'), index_col=0)\n",
    "battery_specs"
   ]
  },
  {
   "cell_type": "code",
   "execution_count": 3,
   "metadata": {},
   "outputs": [
    {
     "data": {
      "text/html": [
       "<div>\n",
       "<style scoped>\n",
       "    .dataframe tbody tr th:only-of-type {\n",
       "        vertical-align: middle;\n",
       "    }\n",
       "\n",
       "    .dataframe tbody tr th {\n",
       "        vertical-align: top;\n",
       "    }\n",
       "\n",
       "    .dataframe thead th {\n",
       "        text-align: right;\n",
       "    }\n",
       "</style>\n",
       "<table border=\"1\" class=\"dataframe\">\n",
       "  <thead>\n",
       "    <tr style=\"text-align: right;\">\n",
       "      <th></th>\n",
       "      <th>Datetime</th>\n",
       "      <th>Market 3 Price [£/MWh]</th>\n",
       "    </tr>\n",
       "  </thead>\n",
       "  <tbody>\n",
       "    <tr>\n",
       "      <th>0</th>\n",
       "      <td>1/1/2018</td>\n",
       "      <td>48.6</td>\n",
       "    </tr>\n",
       "    <tr>\n",
       "      <th>1</th>\n",
       "      <td>1/2/2018</td>\n",
       "      <td>49.6</td>\n",
       "    </tr>\n",
       "    <tr>\n",
       "      <th>2</th>\n",
       "      <td>1/3/2018</td>\n",
       "      <td>48.2</td>\n",
       "    </tr>\n",
       "    <tr>\n",
       "      <th>3</th>\n",
       "      <td>1/4/2018</td>\n",
       "      <td>50.4</td>\n",
       "    </tr>\n",
       "    <tr>\n",
       "      <th>4</th>\n",
       "      <td>1/5/2018</td>\n",
       "      <td>55.0</td>\n",
       "    </tr>\n",
       "  </tbody>\n",
       "</table>\n",
       "</div>"
      ],
      "text/plain": [
       "   Datetime  Market 3 Price [£/MWh]\n",
       "0  1/1/2018                    48.6\n",
       "1  1/2/2018                    49.6\n",
       "2  1/3/2018                    48.2\n",
       "3  1/4/2018                    50.4\n",
       "4  1/5/2018                    55.0"
      ]
     },
     "execution_count": 3,
     "metadata": {},
     "output_type": "execute_result"
    }
   ],
   "source": [
    "daily_data = pd.read_csv(os.path.join('data', 'daily_data.csv'))\n",
    "daily_data.head()"
   ]
  },
  {
   "cell_type": "code",
   "execution_count": 4,
   "metadata": {},
   "outputs": [],
   "source": [
    "small_data = daily_data.iloc[:24]\n",
    "prices = small_data['Market 3 Price [£/MWh]'].to_list()"
   ]
  },
  {
   "cell_type": "code",
   "execution_count": 5,
   "metadata": {},
   "outputs": [
    {
     "data": {
      "text/plain": [
       "2.0"
      ]
     },
     "execution_count": 5,
     "metadata": {},
     "output_type": "execute_result"
    }
   ],
   "source": [
    "float(battery_specs.loc['Max charging rate', 'Values'])"
   ]
  },
  {
   "cell_type": "code",
   "execution_count": 8,
   "metadata": {},
   "outputs": [
    {
     "name": "stdout",
     "output_type": "stream",
     "text": [
      "Charge_C_t_0 = 2.0\n",
      "Charge_C_t_1 = 0.21052632\n",
      "Charge_C_t_10 = 0.0\n",
      "Charge_C_t_11 = 0.21052632\n",
      "Charge_C_t_12 = 2.0\n",
      "Charge_C_t_13 = 2.0\n",
      "Charge_C_t_14 = 2.0\n",
      "Charge_C_t_15 = 0.0\n",
      "Charge_C_t_16 = 2.0\n",
      "Charge_C_t_17 = 2.0\n",
      "Charge_C_t_18 = 0.0\n",
      "Charge_C_t_19 = 0.0\n",
      "Charge_C_t_2 = 2.0\n",
      "Charge_C_t_20 = 1.7894737\n",
      "Charge_C_t_21 = 0.0\n",
      "Charge_C_t_22 = 0.0\n",
      "Charge_C_t_23 = 0.0\n",
      "Charge_C_t_3 = 0.0\n",
      "Charge_C_t_4 = 0.0\n",
      "Charge_C_t_5 = 2.0\n",
      "Charge_C_t_6 = 2.0\n",
      "Charge_C_t_7 = 0.0\n",
      "Charge_C_t_8 = 2.0\n",
      "Charge_C_t_9 = 0.0\n",
      "Discharge_D_t_0 = 0.0\n",
      "Discharge_D_t_1 = 0.0\n",
      "Discharge_D_t_10 = 2.0\n",
      "Discharge_D_t_11 = 0.0\n",
      "Discharge_D_t_12 = 0.0\n",
      "Discharge_D_t_13 = 0.0\n",
      "Discharge_D_t_14 = 2.0\n",
      "Discharge_D_t_15 = 2.0\n",
      "Discharge_D_t_16 = 0.0\n",
      "Discharge_D_t_17 = 2.0\n",
      "Discharge_D_t_18 = 2.0\n",
      "Discharge_D_t_19 = 2.0\n",
      "Discharge_D_t_2 = 0.0\n",
      "Discharge_D_t_20 = 2.0\n",
      "Discharge_D_t_21 = 0.0\n",
      "Discharge_D_t_22 = 0.0\n",
      "Discharge_D_t_23 = 2.0\n",
      "Discharge_D_t_3 = 0.0\n",
      "Discharge_D_t_4 = 2.0\n",
      "Discharge_D_t_5 = 2.0\n",
      "Discharge_D_t_6 = 0.0\n",
      "Discharge_D_t_7 = 2.0\n",
      "Discharge_D_t_8 = 0.21052632\n",
      "Discharge_D_t_9 = 2.0\n",
      "Total profit =  161.4526305719997\n"
     ]
    }
   ],
   "source": [
    "prob = pulp.LpProblem(\"battery_problem\", pulp.LpMaximize)\n",
    "\n",
    "time_horizon = 24\n",
    "times = list(range(time_horizon))\n",
    "K_C = 2 # MW\n",
    "K_D = 2\n",
    "Capacity = 4\n",
    "S_init = 0\n",
    "eta_C = 0.95\n",
    "eta_D = 0.95\n",
    "charge = pulp.LpVariable.dicts(\"Charge\", [f'C_t_{t}' for t in times], lowBound=0, upBound=K_C, cat='Continuous')\n",
    "discharge = pulp.LpVariable.dicts(\"Discharge\", [f'D_t_{t}' for t in times], lowBound=0, upBound=K_D, cat='Continuous')\n",
    "\n",
    "# objective function\n",
    "# profit = revenue - cost = discharge * price - charge * price\n",
    "prob += \\\n",
    "    pulp.LpAffineExpression([(discharge[f'D_t_{t}'], prices[t]) for t in times])  +\\\n",
    "    pulp.LpAffineExpression([(charge[f'C_t_{t}'],   -prices[t]) for t in times])\n",
    "\n",
    "# constraints\n",
    "# 1. storage constraint, 0 <= S_t <= Capacity\n",
    "\n",
    "for t in times:\n",
    "    # min capacity\n",
    "    prob += \\\n",
    "        S_init +\\\n",
    "        pulp.LpAffineExpression([(charge[f'C_t_{i}'],     eta_C) for i in range(t)]) +\\\n",
    "        pulp.LpAffineExpression([(discharge[f'D_t_{i}'], -eta_C) for i in range(t)]) \\\n",
    "        >= 0\n",
    "    \n",
    "    # max capacity\n",
    "    prob += \\\n",
    "        S_init +\\\n",
    "        pulp.LpAffineExpression([(charge[f'C_t_{i}'],     eta_C) for i in range(t)]) +\\\n",
    "        pulp.LpAffineExpression([(discharge[f'D_t_{i}'], -eta_C) for i in range(t)]) \\\n",
    "        <= Capacity\n",
    "    \n",
    "prob.solve()\n",
    "\n",
    "for v in prob.variables():\n",
    "    print(v.name, \"=\", v.varValue)\n",
    "\n",
    "# The optimised objective function value is printed to the screen\n",
    "print(\"Total profit = \", pulp.value(prob.objective))"
   ]
  },
  {
   "cell_type": "code",
   "execution_count": 9,
   "metadata": {},
   "outputs": [
    {
     "data": {
      "text/plain": [
       "<matplotlib.legend.Legend at 0x2d7af38c440>"
      ]
     },
     "execution_count": 9,
     "metadata": {},
     "output_type": "execute_result"
    },
    {
     "data": {
      "image/png": "[encoded data removed]",
      "text/plain": [
       "<Figure size 640x480 with 2 Axes>"
      ]
     },
     "metadata": {},
     "output_type": "display_data"
    }
   ],
   "source": [
    "charge_values = [charge[f'C_t_{t}'].varValue for t in times] \n",
    "discharge_values = [discharge[f'D_t_{t}'].varValue for t in times]\n",
    "storage_values = [S_init,]\n",
    "for t in times:\n",
    "    S_t = storage_values[-1] + eta_C * charge_values[t] - eta_D * discharge_values[t]\n",
    "    storage_values.append(S_t)\n",
    "storage_values.pop(0)\n",
    "\n",
    "fig, axs = plt.subplots(2, 1)\n",
    "axs[0].plot(np.arange(len(prices)), prices)\n",
    "axs[1].plot(np.arange(len(prices)), discharge_values, label='discharge')\n",
    "axs[1].plot(np.arange(len(prices)), charge_values, label='charge')\n",
    "axs[1].plot(np.arange(len(prices)), storage_values, label='storage')\n",
    "plt.legend()"
   ]
  },
  {
   "cell_type": "markdown",
   "metadata": {},
   "source": [
    "# handling daily vs hourly data\n",
    "\n",
    "- At time t, make discharge and charge for hourly market\n",
    "- At time t%24 = 0, make discharge and charge for daily market\n",
    "- At time t%24 =/= 0, charging and discharging for daily market proceeds at rate of c/24 & d/24 using rate set at t//24"
   ]
  },
  {
   "cell_type": "markdown",
   "metadata": {},
   "source": []
  }
 ],
 "metadata": {
  "kernelspec": {
   "display_name": "energy_modeling",
   "language": "python",
   "name": "python3"
  },
  "language_info": {
   "codemirror_mode": {
    "name": "ipython",
    "version": 3
   },
   "file_extension": ".py",
   "mimetype": "text/x-python",
   "name": "python",
   "nbconvert_exporter": "python",
   "pygments_lexer": "ipython3",
   "version": "3.12.1"
  }
 },
 "nbformat": 4,
 "nbformat_minor": 2
}
